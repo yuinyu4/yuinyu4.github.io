{
  "nbformat": 4,
  "nbformat_minor": 0,
  "metadata": {
    "colab": {
      "provenance": [],
      "toc_visible": true,
      "include_colab_link": true
    },
    "kernelspec": {
      "name": "python3",
      "display_name": "Python 3"
    },
    "language_info": {
      "name": "python"
    }
  },
  "cells": [
    {
      "cell_type": "markdown",
      "metadata": {
        "id": "view-in-github",
        "colab_type": "text"
      },
      "source": [
        "<a href=\"https://colab.research.google.com/github/yuinyu4/yuinyu4.github.io/blob/master/DSW2_Numpy_blank.ipynb\" target=\"_parent\"><img src=\"https://colab.research.google.com/assets/colab-badge.svg\" alt=\"Open In Colab\"/></a>"
      ]
    },
    {
      "cell_type": "markdown",
      "source": [
        "# [1] Numpy 선언 및 1차원 배열 선언"
      ],
      "metadata": {
        "id": "r_AhIxFyEfdU"
      }
    },
    {
      "cell_type": "markdown",
      "source": [
        "넘파이 라이브러리 불러오기"
      ],
      "metadata": {
        "id": "MsRWm16tB2fn"
      }
    },
    {
      "cell_type": "code",
      "source": [
        "import numpy"
      ],
      "metadata": {
        "id": "Ot3kiuRoE2Uf"
      },
      "execution_count": null,
      "outputs": []
    },
    {
      "cell_type": "markdown",
      "source": [
        "## 1.1) 리스트를 선언해보세요 </br>\n",
        "e.g.) mlist = [1, 2, 3, 4, 5]"
      ],
      "metadata": {
        "id": "fcHQDXuq58bn"
      }
    },
    {
      "cell_type": "code",
      "source": [
        "mlist = "
      ],
      "metadata": {
        "id": "_rSpP0qyE2dS"
      },
      "execution_count": null,
      "outputs": []
    },
    {
      "cell_type": "code",
      "source": [
        "print(mlist)"
      ],
      "metadata": {
        "id": "rU5e6cNb-B9M"
      },
      "execution_count": null,
      "outputs": []
    },
    {
      "cell_type": "markdown",
      "source": [
        "## 1.2) 위에서 만든 리스트를 Numpy Array로 만들어보세요 </br>\n",
        "e.g.) numpy.array(list)"
      ],
      "metadata": {
        "id": "FIJhsbzN6Jx5"
      }
    },
    {
      "cell_type": "code",
      "source": [
        "# 리스트를 numpy array로 변경후 변수 arr에 주소를 담아 줍니다. \n",
        "arr = "
      ],
      "metadata": {
        "id": "wcNsEqf3Fs5W"
      },
      "execution_count": null,
      "outputs": []
    },
    {
      "cell_type": "code",
      "source": [
        "print(arr)"
      ],
      "metadata": {
        "id": "FHoQqs059-p_"
      },
      "execution_count": null,
      "outputs": []
    },
    {
      "cell_type": "markdown",
      "source": [
        "## 1.3) mlist, arr 의 데이터타 타입(type) 출력해봅시다. </br>e.g.) type(list)</br> e.g.) type(array)"
      ],
      "metadata": {
        "id": "s0XUX9zHFwNr"
      }
    },
    {
      "cell_type": "code",
      "source": [
        "# 여기에 코드를 작성해 주세요\n"
      ],
      "metadata": {
        "id": "MxQyBoU7Fw3r"
      },
      "execution_count": null,
      "outputs": []
    },
    {
      "cell_type": "markdown",
      "source": [
        "##1.4) 배열의 크기를 확인 해봅시다. </br> e.g.) arr.shape"
      ],
      "metadata": {
        "id": "hwFRwU4r5Dbv"
      }
    },
    {
      "cell_type": "code",
      "source": [
        "# 여기에 코드를 작성해 주세요\n"
      ],
      "metadata": {
        "id": "b0ilYB72r3t_"
      },
      "execution_count": null,
      "outputs": []
    },
    {
      "cell_type": "markdown",
      "source": [
        "리스트는 크기를 확인할 수 있는 shape 함수가 없어요"
      ],
      "metadata": {
        "id": "JgELI9X4-KcA"
      }
    },
    {
      "cell_type": "code",
      "source": [
        "mlist.shape"
      ],
      "metadata": {
        "id": "NGEyes2Ur3wv"
      },
      "execution_count": null,
      "outputs": []
    },
    {
      "cell_type": "markdown",
      "source": [
        "# [2] 2차원 배열"
      ],
      "metadata": {
        "id": "1PRXpTgJr3zT"
      }
    },
    {
      "cell_type": "markdown",
      "source": [
        "넘파이 선언 및 약어 설정"
      ],
      "metadata": {
        "id": "KoXYXeH8ByYc"
      }
    },
    {
      "cell_type": "code",
      "source": [
        "import numpy as np"
      ],
      "metadata": {
        "id": "ZzK9yUztr32I"
      },
      "execution_count": null,
      "outputs": []
    },
    {
      "cell_type": "code",
      "source": [
        "print(numpy.array([1, 2, 3]))\n",
        "print(np.array([1, 2, 3]))"
      ],
      "metadata": {
        "id": "B4J8LcXvr348"
      },
      "execution_count": null,
      "outputs": []
    },
    {
      "cell_type": "markdown",
      "source": [
        "## 2.1) 1차원, 2차원 배열을 선언해 봅시다"
      ],
      "metadata": {
        "id": "6Tocit4hCNLr"
      }
    },
    {
      "cell_type": "markdown",
      "source": [
        "1 차원 배열 : [1, 2, 3] </br>\n",
        "2 차원 배열 : [[1, 2, 3], [4, 5, 6]]"
      ],
      "metadata": {
        "id": "MNZ1KCwonumi"
      }
    },
    {
      "cell_type": "code",
      "source": [
        "# 1차원 배열\n",
        "arr1 = \n",
        "print(arr1)\n",
        "\n",
        "# 2차원 배열\n",
        "arr2 = \n",
        "print(arr2)"
      ],
      "metadata": {
        "id": "PxFIxrFAr37V"
      },
      "execution_count": null,
      "outputs": []
    },
    {
      "cell_type": "markdown",
      "source": [
        "## 2.2) 각각의 타입과 크기를 확인해볼까요?"
      ],
      "metadata": {
        "id": "B5n6jcZuCIoF"
      }
    },
    {
      "cell_type": "code",
      "source": [
        "# type(arr)\n"
      ],
      "metadata": {
        "id": "KcUbw2Z8r39n"
      },
      "execution_count": null,
      "outputs": []
    },
    {
      "cell_type": "code",
      "source": [
        "# arr.shape\n"
      ],
      "metadata": {
        "id": "aFy_HwfDCFCx"
      },
      "execution_count": null,
      "outputs": []
    },
    {
      "cell_type": "markdown",
      "source": [
        "# [3] 다양한 생성 방법"
      ],
      "metadata": {
        "id": "IRZqOpwpJ0EW"
      }
    },
    {
      "cell_type": "markdown",
      "source": [
        "## 3.1) 리스트로 생성"
      ],
      "metadata": {
        "id": "wuhxOd8DKC3y"
      }
    },
    {
      "cell_type": "code",
      "source": [
        "mlist = [[1, 2, 3], [4, 5, 6]]\n",
        "\n",
        "# mlist 를 이용해서 Numpy 배열을 선언해보세요"
      ],
      "metadata": {
        "id": "xPaXYs98KC73"
      },
      "execution_count": null,
      "outputs": []
    },
    {
      "cell_type": "markdown",
      "source": [
        "## 3.2) full 함수로 만들기"
      ],
      "metadata": {
        "id": "7bwlf1QgKC_M"
      }
    },
    {
      "cell_type": "code",
      "source": [
        "np.full(3, 6)"
      ],
      "metadata": {
        "id": "PUqy-lofNwxc"
      },
      "execution_count": null,
      "outputs": []
    },
    {
      "cell_type": "code",
      "source": [
        "# 10으로 채워진 5개짜리 배열을 만들어보세요.\n"
      ],
      "metadata": {
        "id": "ywLeAwcPpFkz"
      },
      "execution_count": null,
      "outputs": []
    },
    {
      "cell_type": "markdown",
      "source": [
        "## 3.3) zeros 함수로 만들기"
      ],
      "metadata": {
        "id": "OKnY_oEEKDCd"
      }
    },
    {
      "cell_type": "code",
      "source": [
        "np.zeros(3)"
      ],
      "metadata": {
        "id": "iaaWjjCQOW7_"
      },
      "execution_count": null,
      "outputs": []
    },
    {
      "cell_type": "code",
      "source": [
        "np.zeros(4, dtype=int)"
      ],
      "metadata": {
        "id": "L67QXyxDOjf_"
      },
      "execution_count": null,
      "outputs": []
    },
    {
      "cell_type": "code",
      "source": [
        "# zeros함수로 2행 3열의 int형 배열을 만들어보세요.\n"
      ],
      "metadata": {
        "id": "2tEFnGsspVTX"
      },
      "execution_count": null,
      "outputs": []
    },
    {
      "cell_type": "markdown",
      "source": [
        "## 3.4) ones 함수로 만들기"
      ],
      "metadata": {
        "id": "pYUuILvmKDF2"
      }
    },
    {
      "cell_type": "code",
      "source": [
        "np.ones(3)"
      ],
      "metadata": {
        "id": "yR_7vCI1OXcG"
      },
      "execution_count": null,
      "outputs": []
    },
    {
      "cell_type": "code",
      "source": [
        "np.ones(3, dtype=int)"
      ],
      "metadata": {
        "id": "2d0dPUOAQM0p"
      },
      "execution_count": null,
      "outputs": []
    },
    {
      "cell_type": "code",
      "source": [
        "# ones 함수를 이용해서 2행 3열의 int형 배열을 생성해보세요"
      ],
      "metadata": {
        "id": "rPIIMUaH365T"
      },
      "execution_count": null,
      "outputs": []
    },
    {
      "cell_type": "markdown",
      "source": [
        "## 3.5) random 함수로 만들기"
      ],
      "metadata": {
        "id": "k6D3O10uKDJc"
      }
    },
    {
      "cell_type": "code",
      "source": [
        "np.random.random(5)"
      ],
      "metadata": {
        "id": "6e_yxvJXOYUv"
      },
      "execution_count": null,
      "outputs": []
    },
    {
      "cell_type": "markdown",
      "source": [
        "random 함수로 2차원 배열을 만들어봅시다"
      ],
      "metadata": {
        "id": "X93vu1xt2U3l"
      }
    },
    {
      "cell_type": "code",
      "source": [
        "np.random.random(???)"
      ],
      "metadata": {
        "id": "L8FT2V8gQUMj"
      },
      "execution_count": null,
      "outputs": []
    },
    {
      "cell_type": "code",
      "source": [
        "np.random.randint(3)"
      ],
      "metadata": {
        "id": "ad5-hwIDQUPu"
      },
      "execution_count": null,
      "outputs": []
    },
    {
      "cell_type": "code",
      "source": [
        "np.random.randint(0, 10, 5)"
      ],
      "metadata": {
        "id": "tqN9mTiyTJms"
      },
      "execution_count": null,
      "outputs": []
    },
    {
      "cell_type": "code",
      "source": [
        "np.random.randint(0, 10, size=(2, 3))"
      ],
      "metadata": {
        "id": "vYedFAipTJqk"
      },
      "execution_count": null,
      "outputs": []
    },
    {
      "cell_type": "code",
      "source": [
        "np.random.choice(10, 3)"
      ],
      "metadata": {
        "id": "k8McEtpcTJur"
      },
      "execution_count": null,
      "outputs": []
    },
    {
      "cell_type": "markdown",
      "source": [
        "## 3.6) arange 함수로 만들기"
      ],
      "metadata": {
        "id": "S1e5e_azKDMi"
      }
    },
    {
      "cell_type": "code",
      "source": [
        "list(range(10))"
      ],
      "metadata": {
        "id": "Q5jdhvItYaOk"
      },
      "execution_count": null,
      "outputs": []
    },
    {
      "cell_type": "code",
      "source": [
        "np.arange(10)"
      ],
      "metadata": {
        "id": "vdC_X0UzYaLU"
      },
      "execution_count": null,
      "outputs": []
    },
    {
      "cell_type": "code",
      "source": [
        "np.arange(2, 8)"
      ],
      "metadata": {
        "id": "Q9cN8C8gYaHv"
      },
      "execution_count": null,
      "outputs": []
    },
    {
      "cell_type": "code",
      "source": [
        "# 10 보다 작은 홀수\n",
        "np.arange(1, 10, 2)"
      ],
      "metadata": {
        "id": "Mz_YpNvZYtql"
      },
      "execution_count": null,
      "outputs": []
    },
    {
      "cell_type": "code",
      "source": [
        "# 20 보다 작은 3의 배수만 출력\n",
        "np.arange(3, 20, 3)"
      ],
      "metadata": {
        "id": "nQ7YVT7K1kTR"
      },
      "execution_count": null,
      "outputs": []
    },
    {
      "cell_type": "markdown",
      "source": [
        "## [Mission1]"
      ],
      "metadata": {
        "id": "mihZHsWc2ClH"
      }
    },
    {
      "cell_type": "markdown",
      "source": [
        "## 1) 0 ~ 80 까지의 숫자 중, 6의 배수만 들어있는 배열을 만들어 보세요."
      ],
      "metadata": {
        "id": "sirnJIhy2Chn"
      }
    },
    {
      "cell_type": "code",
      "source": [
        "np.arange(?, ?, ?)"
      ],
      "metadata": {
        "id": "aX_49rW92CdU"
      },
      "execution_count": null,
      "outputs": []
    },
    {
      "cell_type": "markdown",
      "source": [
        "## 2) 아래와 같은 2차원 배열을 만들어 보세요.(리스트를 사용하세요) </br>\n",
        "    [[1, 2, 3], [4, 5, 6]]"
      ],
      "metadata": {
        "id": "KT9QQl8x2XK-"
      }
    },
    {
      "cell_type": "code",
      "source": [
        "# np.array(리스트)\n",
        "arr = \n",
        "\n",
        "print(arr)"
      ],
      "metadata": {
        "id": "xFQNTRFN2XUl"
      },
      "execution_count": null,
      "outputs": []
    },
    {
      "cell_type": "markdown",
      "source": [
        "# [4] Numpy 인덱싱과 슬라이싱"
      ],
      "metadata": {
        "id": "xe4MBhQyYtkX"
      }
    },
    {
      "cell_type": "markdown",
      "source": [
        "## 4.1) 인덱싱"
      ],
      "metadata": {
        "id": "NM02c5rNYtgx"
      }
    },
    {
      "cell_type": "code",
      "source": [
        "mlist = [1, 2, 3]"
      ],
      "metadata": {
        "id": "hNl3qBeT1FyO"
      },
      "execution_count": null,
      "outputs": []
    },
    {
      "cell_type": "code",
      "source": [
        "mlist[0]"
      ],
      "metadata": {
        "id": "7AEN0qnd1IPU"
      },
      "execution_count": null,
      "outputs": []
    },
    {
      "cell_type": "code",
      "source": [
        "mlist[-3]"
      ],
      "metadata": {
        "id": "s8pBHrhk1ILw"
      },
      "execution_count": null,
      "outputs": []
    },
    {
      "cell_type": "code",
      "source": [
        "arr = np.array([1, 2, 3])"
      ],
      "metadata": {
        "id": "J9xwOXJ8Ytd0"
      },
      "execution_count": null,
      "outputs": []
    },
    {
      "cell_type": "code",
      "source": [
        "arr[0]"
      ],
      "metadata": {
        "id": "iqOq037rYtXK"
      },
      "execution_count": null,
      "outputs": []
    },
    {
      "cell_type": "code",
      "source": [
        "arr[-3]"
      ],
      "metadata": {
        "id": "Nctf7JYMYtT6"
      },
      "execution_count": null,
      "outputs": []
    },
    {
      "cell_type": "markdown",
      "source": [
        "## 4.2) 슬라이싱"
      ],
      "metadata": {
        "id": "yfbjsHwl1YmM"
      }
    },
    {
      "cell_type": "code",
      "source": [
        "arr = np.array([2, 6, 8, 9, 12, 23, 27, 32, 35])"
      ],
      "metadata": {
        "id": "_qWpfReR1Yi7"
      },
      "execution_count": null,
      "outputs": []
    },
    {
      "cell_type": "code",
      "source": [
        "# range(시작값, 끝값, 스텝)\n",
        "# arange(시작값, 끝값, 스텝)\n",
        "# 인덱싱[시작값, 끝값, 스텝]"
      ],
      "metadata": {
        "id": "UXW9YkJgtSya"
      },
      "execution_count": null,
      "outputs": []
    },
    {
      "cell_type": "code",
      "source": [
        "# 시작 + 끝\n",
        "arr[0:5]"
      ],
      "metadata": {
        "id": "GKDz1bDEserB"
      },
      "execution_count": null,
      "outputs": []
    },
    {
      "cell_type": "code",
      "source": [
        "# 시작 + 끝 + 스텝 지정\n",
        "arr[0:5:2]"
      ],
      "metadata": {
        "id": "a1ndifFH1Yfp"
      },
      "execution_count": null,
      "outputs": []
    },
    {
      "cell_type": "code",
      "source": [
        "arr = np.arange(10)\n",
        "arr"
      ],
      "metadata": {
        "id": "DQpxfR9ur9IR"
      },
      "execution_count": null,
      "outputs": []
    },
    {
      "cell_type": "code",
      "source": [
        "arr[::2]"
      ],
      "metadata": {
        "id": "6injFviEsCZ5"
      },
      "execution_count": null,
      "outputs": []
    },
    {
      "cell_type": "code",
      "source": [
        "arr[0:-1:2]"
      ],
      "metadata": {
        "id": "M_99MKLpsCeq"
      },
      "execution_count": null,
      "outputs": []
    },
    {
      "cell_type": "markdown",
      "source": [
        "Boolean을 이용한 슬라이싱도 가능해요!"
      ],
      "metadata": {
        "id": "wtEzITllDY6T"
      }
    },
    {
      "cell_type": "code",
      "source": [
        "arr = np.array([1, 2, 3, 4, 5])"
      ],
      "metadata": {
        "id": "H9IJgLoHDY-1"
      },
      "execution_count": null,
      "outputs": []
    },
    {
      "cell_type": "code",
      "source": [
        "arr[[True, True, False, False, True]]"
      ],
      "metadata": {
        "id": "VpeFoRIKDgvQ"
      },
      "execution_count": null,
      "outputs": []
    },
    {
      "cell_type": "markdown",
      "source": [
        "# [5] Numpy 기본 연산"
      ],
      "metadata": {
        "id": "VTP3gdSs1YVG"
      }
    },
    {
      "cell_type": "markdown",
      "source": [
        "## 5.1) 두배 연산 해보기 (리스트)"
      ],
      "metadata": {
        "id": "OvbJNYdKKJCy"
      }
    },
    {
      "cell_type": "code",
      "source": [
        "mlist1 = [1, 2, 3, 4, 5]"
      ],
      "metadata": {
        "id": "WcNXGhh9KI_3"
      },
      "execution_count": null,
      "outputs": []
    },
    {
      "cell_type": "code",
      "source": [
        "mlist2 = []\n",
        "for idx in range(len(mlist1)):\n",
        "  print(mlist1[idx] * 2)\n",
        "  mlist2.append(mlist1[idx] * 2)\n",
        "mlist2"
      ],
      "metadata": {
        "id": "F_ZrhcuwKI8w"
      },
      "execution_count": null,
      "outputs": []
    },
    {
      "cell_type": "markdown",
      "source": [
        "## 5.2) 두배 연산 해보기 (Numpy)"
      ],
      "metadata": {
        "id": "xYYh5yNVKI5Y"
      }
    },
    {
      "cell_type": "code",
      "source": [
        "arr = np.array(mlist1)"
      ],
      "metadata": {
        "id": "oArrFV3iKI2b"
      },
      "execution_count": null,
      "outputs": []
    },
    {
      "cell_type": "code",
      "source": [
        "arr2 = arr * 2"
      ],
      "metadata": {
        "id": "PErGechS1YRW"
      },
      "execution_count": null,
      "outputs": []
    },
    {
      "cell_type": "code",
      "source": [
        "arr2"
      ],
      "metadata": {
        "id": "LtGsmIgMLewI"
      },
      "execution_count": null,
      "outputs": []
    },
    {
      "cell_type": "markdown",
      "source": [
        "리스트에 두배 연산을하면 어떻게 될까요?? </br>\n",
        "\n",
        "mlist * 2"
      ],
      "metadata": {
        "id": "S7racwWALesS"
      }
    },
    {
      "cell_type": "code",
      "source": [
        "mlist1 * 2"
      ],
      "metadata": {
        "id": "gmVYT50rLen2"
      },
      "execution_count": null,
      "outputs": []
    },
    {
      "cell_type": "markdown",
      "source": [
        "## [CHECK!] Numpy 연산은 얼마나 빠를까?"
      ],
      "metadata": {
        "id": "hvdY4cLWSaoB"
      }
    },
    {
      "cell_type": "code",
      "source": [
        "arr = np.array(range(20000000))"
      ],
      "metadata": {
        "id": "mGaaNMVmSabX"
      },
      "execution_count": null,
      "outputs": []
    },
    {
      "cell_type": "code",
      "source": [
        "# 시간 측적 함수 매크로 %%time과 %time\n",
        "%%time\n",
        "list1 = []\n",
        "for v in arr:\n",
        "  if v % 2 == 0 and v % 8 == 0:\n",
        "    list1.append(v)\n",
        "print(len(list1))"
      ],
      "metadata": {
        "id": "Oa0ysGx2UplZ"
      },
      "execution_count": null,
      "outputs": []
    },
    {
      "cell_type": "code",
      "source": [
        "# for 문이 아닌 경우에는 %time 명령을 쓸 수 있어요.\n",
        "%time len(arr[(arr % 2 == 0) & (arr % 8 == 0)])"
      ],
      "metadata": {
        "id": "QuusVg__SmTQ"
      },
      "execution_count": null,
      "outputs": []
    },
    {
      "cell_type": "code",
      "source": [
        "# 몇배나 빠른걸까?"
      ],
      "metadata": {
        "id": "_Zcb3-DsSmWR"
      },
      "execution_count": null,
      "outputs": []
    },
    {
      "cell_type": "markdown",
      "source": [
        "## 5.3) 기본연산 해보기"
      ],
      "metadata": {
        "id": "abIhvma2Lejp"
      }
    },
    {
      "cell_type": "code",
      "source": [
        "# 아래 Numpy 배열에 사칙연산을 해보세요\n",
        "arr = np.array([2, 4, 6, 8, 10])"
      ],
      "metadata": {
        "id": "OjMW1O4sLeWu"
      },
      "execution_count": null,
      "outputs": []
    },
    {
      "cell_type": "code",
      "source": [
        "# 배열 덧셈"
      ],
      "metadata": {
        "id": "vCSS-RGIM-I1"
      },
      "execution_count": null,
      "outputs": []
    },
    {
      "cell_type": "code",
      "source": [
        "# 배열 뺄셈"
      ],
      "metadata": {
        "id": "Rl6W1BXNLeSo"
      },
      "execution_count": null,
      "outputs": []
    },
    {
      "cell_type": "code",
      "source": [
        "# 배열 곱센"
      ],
      "metadata": {
        "id": "ILpedqavLeGg"
      },
      "execution_count": null,
      "outputs": []
    },
    {
      "cell_type": "code",
      "source": [
        "# 배열 나눗셈"
      ],
      "metadata": {
        "id": "0p7fOInFLeDH"
      },
      "execution_count": null,
      "outputs": []
    },
    {
      "cell_type": "markdown",
      "source": [
        "## 5.4) 배열간 연산"
      ],
      "metadata": {
        "id": "DkMBNzURLeAQ"
      }
    },
    {
      "cell_type": "code",
      "source": [
        "# 리스트간의 연산 결과는?\n",
        "mlist1 = [1, 3, 5, 7, 9]\n",
        "mlist2  = [2, 4, 6, 8, 10]"
      ],
      "metadata": {
        "id": "JqbRk3AsNdU0"
      },
      "execution_count": null,
      "outputs": []
    },
    {
      "cell_type": "code",
      "source": [
        "# 아래 배열들의 덧셈 연사을 해보세요\n",
        "arr1 = np.array([1, 3, 5, 7, 9])\n",
        "arr2 = np.array([2, 4, 6, 8, 10])"
      ],
      "metadata": {
        "id": "OgTgX8WRLd9A"
      },
      "execution_count": null,
      "outputs": []
    },
    {
      "cell_type": "markdown",
      "source": [
        "## 5.5) Boolean 연산"
      ],
      "metadata": {
        "id": "VvcU-1V8Ld5c"
      }
    },
    {
      "cell_type": "markdown",
      "source": [
        "숫자 한개에 대한 Boolean연산을 먼저 해봅시다."
      ],
      "metadata": {
        "id": "AFG9dMfVPHAL"
      }
    },
    {
      "cell_type": "code",
      "source": [
        "24 > 20"
      ],
      "metadata": {
        "id": "owAB8NoBPGJU"
      },
      "execution_count": null,
      "outputs": []
    },
    {
      "cell_type": "code",
      "source": [
        "# 먼저 배열을 하나 선언해줍니다. \n",
        "arr = np.array([28, 16, 1, 27, 55, 8, 19])"
      ],
      "metadata": {
        "id": "Acms1-EONXtm"
      },
      "execution_count": null,
      "outputs": []
    },
    {
      "cell_type": "code",
      "source": [
        "arr > 20"
      ],
      "metadata": {
        "id": "ovvFLIBmNXpc"
      },
      "execution_count": null,
      "outputs": []
    },
    {
      "cell_type": "markdown",
      "source": [
        "Boolean 을 이용한 슬라이싱을 기억하나요? </br>\n",
        "True 인 값만 가져오는 방법이 있었지요?"
      ],
      "metadata": {
        "id": "ok5rq4kuPu97"
      }
    },
    {
      "cell_type": "code",
      "source": [
        "# 20보다 큰수만 추출\n",
        "arr[arr > 20]"
      ],
      "metadata": {
        "id": "uBlWe8dSNXl7"
      },
      "execution_count": null,
      "outputs": []
    },
    {
      "cell_type": "code",
      "source": [
        "# 짝수만 추출해봅시다"
      ],
      "metadata": {
        "id": "qcFB95KPNXd4"
      },
      "execution_count": null,
      "outputs": []
    },
    {
      "cell_type": "markdown",
      "source": [
        "# [6] 알아두면 좋은 함수들"
      ],
      "metadata": {
        "id": "wled62NKNXXS"
      }
    },
    {
      "cell_type": "markdown",
      "source": [
        "## 6.1) where"
      ],
      "metadata": {
        "id": "jZjHNaDHNXTO"
      }
    },
    {
      "cell_type": "markdown",
      "source": [
        "where 함수는 조건이 True인 값의 인덱스 값을 알려줘요"
      ],
      "metadata": {
        "id": "hEz15SwpNXPl"
      }
    },
    {
      "cell_type": "code",
      "source": [
        "arr = np.array([28, 16, 1, 27, 55, 8, 19])\n",
        "print(np.where(arr % 2 == 0))\n",
        "print(np.where(arr % 2 == 1))"
      ],
      "metadata": {
        "id": "XvPcJW1hTXwu"
      },
      "execution_count": null,
      "outputs": []
    },
    {
      "cell_type": "code",
      "source": [
        "# arr 배열의 값 중에서 20 이상인 값들의 인덱스를 출력해보세요"
      ],
      "metadata": {
        "id": "LKzKGPSHTX0E"
      },
      "execution_count": null,
      "outputs": []
    },
    {
      "cell_type": "markdown",
      "source": [
        "## 6.2) sort "
      ],
      "metadata": {
        "id": "1Uilam0qTX3g"
      }
    },
    {
      "cell_type": "markdown",
      "source": [
        "sort 함수는 배열을 정렬하는데 사용해요!"
      ],
      "metadata": {
        "id": "ctvkoBZsWRXC"
      }
    },
    {
      "cell_type": "code",
      "source": [
        "np.sort(arr)"
      ],
      "metadata": {
        "id": "aCkDD7beWWTD"
      },
      "execution_count": null,
      "outputs": []
    },
    {
      "cell_type": "code",
      "source": [
        "# 거꾸로 정렬해 볼까요?\n",
        "np.sort(arr)[::-1]"
      ],
      "metadata": {
        "id": "O9vwWkT5WYTx"
      },
      "execution_count": null,
      "outputs": []
    },
    {
      "cell_type": "markdown",
      "source": [
        "2차원 배열은 어떻게 정렬할까요?"
      ],
      "metadata": {
        "id": "MVzWT3FLkT1M"
      }
    },
    {
      "cell_type": "code",
      "source": [
        "arr2 = np.array([\n",
        "                  [2, 1, 6], \n",
        "                  [0, 7, 4],\n",
        "                  [5, 3, 2]\n",
        "                 ])\n",
        "arr2"
      ],
      "metadata": {
        "id": "2CJXSYw8Wl1g"
      },
      "execution_count": null,
      "outputs": []
    },
    {
      "cell_type": "code",
      "source": [
        "np.sort(arr2, axis=0)"
      ],
      "metadata": {
        "id": "1bR8vTPgg8zU"
      },
      "execution_count": null,
      "outputs": []
    },
    {
      "cell_type": "code",
      "source": [
        "np.sort(arr2, axis=1)"
      ],
      "metadata": {
        "id": "b5wwxCcMg_Hs"
      },
      "execution_count": null,
      "outputs": []
    },
    {
      "cell_type": "code",
      "source": [
        "arr2.sort(axis=0)\n",
        "arr2"
      ],
      "metadata": {
        "id": "VyO-lDNWhA8Z"
      },
      "execution_count": null,
      "outputs": []
    },
    {
      "cell_type": "code",
      "source": [
        "arr2.sort(axis=1)\n",
        "arr2"
      ],
      "metadata": {
        "id": "YFbp-kCzleEJ"
      },
      "execution_count": null,
      "outputs": []
    },
    {
      "cell_type": "code",
      "source": [
        "print(arr2)\n",
        "arr2[:, 0].sort()\n",
        "print(arr2)"
      ],
      "metadata": {
        "id": "kp_z-ALHleII"
      },
      "execution_count": null,
      "outputs": []
    },
    {
      "cell_type": "code",
      "source": [
        "# 리스트도 정렬해볼까요?\n",
        "mlist = [\n",
        "          [2, 1, 6], \n",
        "          [0, 7, 4],\n",
        "          [5, 3, 2]\n",
        "        ]\n",
        "print(mlist)"
      ],
      "metadata": {
        "id": "poSbtkmHhxPE"
      },
      "execution_count": null,
      "outputs": []
    },
    {
      "cell_type": "code",
      "source": [
        "sorted(mlist, key=lambda x : x[0])"
      ],
      "metadata": {
        "id": "OtITBHV0kgTN"
      },
      "execution_count": null,
      "outputs": []
    },
    {
      "cell_type": "code",
      "source": [
        "sorted(mlist, key=lambda x : x[1])"
      ],
      "metadata": {
        "id": "nHRCSZgQktD0"
      },
      "execution_count": null,
      "outputs": []
    },
    {
      "cell_type": "markdown",
      "source": [
        "## 6.3) 2차원 배열 인덱싱, 슬라이싱"
      ],
      "metadata": {
        "id": "piTTQAT3urx3"
      }
    },
    {
      "cell_type": "code",
      "source": [
        "arr2 = np.array([\n",
        "                  [2, 1, 6], \n",
        "                  [0, 7, 4],\n",
        "                  [5, 3, 2]\n",
        "                 ])\n",
        "arr2"
      ],
      "metadata": {
        "id": "P7cV2ezEuu4N"
      },
      "execution_count": null,
      "outputs": []
    },
    {
      "cell_type": "code",
      "source": [
        "arr2[1:, 1:]"
      ],
      "metadata": {
        "id": "DKkdWJihuxt3"
      },
      "execution_count": null,
      "outputs": []
    },
    {
      "cell_type": "markdown",
      "source": [
        "# [마무리 미션]"
      ],
      "metadata": {
        "id": "JQOCSgNHw3c_"
      }
    },
    {
      "cell_type": "markdown",
      "source": [
        "가격 변수는 각각 커피와 와플의 가격을 표시하고, </br>\n",
        "커피, 와플 배열은 10일 동안의 커피와 와플 판매 개수를 표시합니다. "
      ],
      "metadata": {
        "id": "SkDytmo7zkdM"
      }
    },
    {
      "cell_type": "code",
      "source": [
        "커피_가격 = 3400\n",
        "와플_가격 = 6700\n",
        "\n",
        "커피_판매량 = np.array([45, 77, 65, 89, 123, 88, 67, 89, 99, 98])\n",
        "와플_판매량 = np.array([78, 50, 120, 69, 49, 90, 39, 100, 60, 79])"
      ],
      "metadata": {
        "id": "hIafYX4Hza_c"
      },
      "execution_count": null,
      "outputs": []
    },
    {
      "cell_type": "markdown",
      "source": [
        "## 1) 커피, 와플의 \"일별\" 판매 수익을 계산하세요"
      ],
      "metadata": {
        "id": "n63Naw-RzIvo"
      }
    },
    {
      "cell_type": "code",
      "source": [
        "# 여기에 코드를 작성하세요."
      ],
      "metadata": {
        "id": "yG9yeeVHyF5K"
      },
      "execution_count": null,
      "outputs": []
    },
    {
      "cell_type": "markdown",
      "source": [
        "## 2) 커피와 와플의 \"총 매출\"과 \"평균 매출\" 을 구하세요"
      ],
      "metadata": {
        "id": "s7tmWR14yxXy"
      }
    },
    {
      "cell_type": "code",
      "source": [
        "# 힌트1 : sum() 함수는 배열의 모든 값을 더해줍니다. \n",
        "# e.g.) sum(np.array([1, 2, 3])) --> 결과는 6 \n",
        "\n",
        "sum(np.array([1, 2, 3, 4, 5]))"
      ],
      "metadata": {
        "id": "hIoVpKmb0Gn1"
      },
      "execution_count": null,
      "outputs": []
    },
    {
      "cell_type": "code",
      "source": [
        "# 힌트2 : len() 함수는 배열의 길이를 알려줍니다. \n",
        "# e.g.) len([1, 2, 3]) --> 3\n",
        "\n",
        "print(len([1, 2, 3]))\n",
        "print(len(np.array([1, 2, 3, 4, 5])))"
      ],
      "metadata": {
        "id": "KQQQiaku1N8I"
      },
      "execution_count": null,
      "outputs": []
    },
    {
      "cell_type": "code",
      "source": [
        "# 힌트3 : 평균 매출 = 총매출 / 영업날짜"
      ],
      "metadata": {
        "id": "tets4Thb1h8O"
      },
      "execution_count": null,
      "outputs": []
    }
  ]
}